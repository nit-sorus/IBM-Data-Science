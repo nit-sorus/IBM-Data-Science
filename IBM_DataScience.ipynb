{
 "cells": [
  {
   "cell_type": "markdown",
   "id": "c4f77ac6",
   "metadata": {},
   "source": [
    "Title: Housing prices Prediction"
   ]
  },
  {
   "cell_type": "markdown",
   "id": "fa96b698",
   "metadata": {},
   "source": [
    "Intro: Guessing housing prices is no longer the work of experienced people. We can design a model to guess the price of houses by training it on houses data(dependent features). Data includes features like area, washrooms, amenities, locality etc."
   ]
  },
  {
   "cell_type": "markdown",
   "id": "15f1f0e7",
   "metadata": {},
   "source": [
    "The languages used for Data Science are as follows:\n",
    "1. Python : It is general purpose language preferred by data scientists\n",
    "2. SQL : It is used to manage large scale data. It is basically an RDBMS.\n",
    "3. R : It is easy to use and preferred language by Mathematicians and statisticians.\n",
    "\n",
    "Other languages can also be used.\n",
    "    "
   ]
  },
  {
   "cell_type": "markdown",
   "id": "724abcf2",
   "metadata": {},
   "source": [
    "Some of the popular Data Science Libraries are as follows:\n",
    "1. Pandas (for data frames and structuring data)\n",
    "2. Scikit learn (for doing statistics and applying models)\n",
    "3. Numpy (for basic mathematical operations and vector data structures)\n",
    "4. Tensorflow (For advanced statistics and models)\n",
    "5. Seaborn (For advanced data visualization)\n",
    "6. Matplotlib (For simple plottings)"
   ]
  },
  {
   "cell_type": "markdown",
   "id": "d3849268",
   "metadata": {},
   "source": [
    "| Data Science Tools     | Use |\n",
    "| ----------- | ----------- |\n",
    "| Pandas     | Structuring and manipulating data       |\n",
    "| Scikit Learn   | Applying statistical models        |\n",
    "| Numpy |   basic vector and mathematical operations      |\n",
    "|Tensorflow |   Advanced statistics models        |\n",
    "|Seaborn |   Advanced data visualization   | \n",
    "|Matplotlib |     Simple plottings        |"
   ]
  },
  {
   "cell_type": "markdown",
   "id": "8abdbb26",
   "metadata": {},
   "source": [
    "Arithmetic expressions are as follows:\n",
    "1. x+1=3\n",
    "2. x-y=10"
   ]
  },
  {
   "cell_type": "code",
   "execution_count": 4,
   "id": "67c7111b",
   "metadata": {},
   "outputs": [
    {
     "name": "stdout",
     "output_type": "stream",
     "text": [
      "5 6\n"
     ]
    }
   ],
   "source": [
    "a=2\n",
    "b=3\n",
    "add = a+b\n",
    "mult = a*b\n",
    "print(add, mult)"
   ]
  },
  {
   "cell_type": "code",
   "execution_count": 6,
   "id": "66f36e05",
   "metadata": {},
   "outputs": [
    {
     "data": {
      "text/plain": [
       "90.0"
      ]
     },
     "execution_count": 6,
     "metadata": {},
     "output_type": "execute_result"
    }
   ],
   "source": [
    "def hr_min(hr):\n",
    "    return (hr*60)\n",
    "hr_min(1.5)"
   ]
  },
  {
   "cell_type": "markdown",
   "id": "aacc4d1a",
   "metadata": {},
   "source": [
    "Objective of the project is to predict the housing prices based on the given parameters"
   ]
  },
  {
   "cell_type": "markdown",
   "id": "fdd5fc6f",
   "metadata": {},
   "source": [
    "Author : Nitish Goyal"
   ]
  },
  {
   "cell_type": "code",
   "execution_count": null,
   "id": "22cce648",
   "metadata": {},
   "outputs": [],
   "source": []
  },
  {
   "cell_type": "code",
   "execution_count": null,
   "id": "f84d388c",
   "metadata": {},
   "outputs": [],
   "source": []
  },
  {
   "cell_type": "code",
   "execution_count": null,
   "id": "3fd2d122",
   "metadata": {},
   "outputs": [],
   "source": []
  }
 ],
 "metadata": {
  "kernelspec": {
   "display_name": "Python 3 (ipykernel)",
   "language": "python",
   "name": "python3"
  },
  "language_info": {
   "codemirror_mode": {
    "name": "ipython",
    "version": 3
   },
   "file_extension": ".py",
   "mimetype": "text/x-python",
   "name": "python",
   "nbconvert_exporter": "python",
   "pygments_lexer": "ipython3",
   "version": "3.11.4"
  }
 },
 "nbformat": 4,
 "nbformat_minor": 5
}
